{
 "cells": [
  {
   "cell_type": "markdown",
   "metadata": {},
   "source": [
    "# Import Libraries"
   ]
  },
  {
   "cell_type": "code",
   "execution_count": null,
   "metadata": {},
   "outputs": [],
   "source": [
    "import numpy as np\n",
    "import pandas as pd\n",
    "import matplotlib.pyplot as plt\n",
    "import seaborn as sns\n",
    "from collections import Counter\n",
    "from sklearn.model_selection import train_test_split, cross_val_score, GridSearchCV, StratifiedKFold\n",
    "from statsmodels.stats.outliers_influence import variance_inflation_factor\n",
    "from sklearn.preprocessing import StandardScaler\n",
    "from sklearn.ensemble import RandomForestClassifier\n",
    "from sklearn.metrics import accuracy_score, precision_score, recall_score, f1_score, confusion_matrix\n",
    "from imblearn.over_sampling import SMOTE\n",
    "from statistics import stdev\n",
    "\n",
    "import warnings\n",
    "from sklearn.exceptions import ConvergenceWarning\n",
    "warnings.filterwarnings(\"ignore\", category=UserWarning)\n",
    "warnings.filterwarnings(\"ignore\", category=FutureWarning)\n",
    "warnings.filterwarnings(\"ignore\", category=ConvergenceWarning)"
   ]
  },
  {
   "cell_type": "markdown",
   "metadata": {},
   "source": [
    "# Load Data"
   ]
  },
  {
   "cell_type": "code",
   "execution_count": null,
   "metadata": {},
   "outputs": [],
   "source": [
    "df = pd.read_csv(\"/mnt/hdd/Datasets/winequality-red.csv\")\n",
    "df.head()"
   ]
  },
  {
   "cell_type": "code",
   "execution_count": null,
   "metadata": {},
   "outputs": [],
   "source": [
    "df.shape"
   ]
  },
  {
   "cell_type": "code",
   "execution_count": null,
   "metadata": {},
   "outputs": [],
   "source": [
    "df.isnull().sum()"
   ]
  },
  {
   "cell_type": "code",
   "execution_count": null,
   "metadata": {},
   "outputs": [],
   "source": [
    "df.duplicated().sum()"
   ]
  },
  {
   "cell_type": "code",
   "execution_count": null,
   "metadata": {},
   "outputs": [],
   "source": [
    "df.drop_duplicates(inplace=True)"
   ]
  },
  {
   "cell_type": "code",
   "execution_count": null,
   "metadata": {},
   "outputs": [],
   "source": [
    "df.quality.value_counts()"
   ]
  },
  {
   "cell_type": "markdown",
   "metadata": {},
   "source": [
    "# EDA"
   ]
  },
  {
   "cell_type": "code",
   "execution_count": null,
   "metadata": {},
   "outputs": [],
   "source": [
    "df[\"quality\"] = df[\"quality\"].map({\n",
    "    3: \"Low\",\n",
    "    4: \"Low\",\n",
    "    5: \"Medium\",\n",
    "    6: \"Medium\",\n",
    "    7: \"High\",\n",
    "    8: \"High\"\n",
    "})"
   ]
  },
  {
   "cell_type": "code",
   "execution_count": null,
   "metadata": {},
   "outputs": [],
   "source": [
    "df = df.sample(frac=1).reset_index(drop=True)"
   ]
  },
  {
   "cell_type": "code",
   "execution_count": null,
   "metadata": {},
   "outputs": [],
   "source": [
    "df.head()"
   ]
  },
  {
   "cell_type": "code",
   "execution_count": null,
   "metadata": {},
   "outputs": [],
   "source": [
    "def plot_count(df, col, title):\n",
    "    f, ax = plt.subplots(1, 2, figsize=(12, 6))\n",
    "    plt.subplots_adjust(wspace=0.2)\n",
    "\n",
    "    values = df[col].value_counts()\n",
    "    N = len(values)\n",
    "\n",
    "    outer_pie = values\n",
    "    inner_pie = values / N\n",
    "\n",
    "    ax[0].pie(\n",
    "        outer_pie, \n",
    "        labels=values.index.tolist(), \n",
    "        startangle=90,\n",
    "        frame=True,\n",
    "        radius=1.3, \n",
    "        explode=([0.05] * (N-1) + [.3]),\n",
    "        wedgeprops={'linewidth' : 1, 'edgecolor' : 'white'}, \n",
    "        textprops={'fontsize': 12, 'weight': 'bold'}\n",
    "    )\n",
    "    \n",
    "    ax[0].pie(\n",
    "        inner_pie,\n",
    "        radius=1, \n",
    "        startangle=90,\n",
    "        autopct='%1.f%%', \n",
    "        explode=([0.1] * (N-1) + [.3]),\n",
    "        pctdistance=0.8, textprops={\"size\": 13, \"weight\": \"bold\", \"color\": \"white\"}\n",
    "    )\n",
    "\n",
    "    center_circle = plt.Circle((0,0), .70, color='black', fc='white', linewidth=0)\n",
    "    ax[0].add_artist(center_circle)\n",
    "\n",
    "    sns.barplot(x=values, y=values.index.tolist(), orient='horizontal')\n",
    "\n",
    "    for i, v in enumerate(values):\n",
    "        ax[1].text(v, i+0.1, str(v), color=\"black\", fontweight=\"bold\", fontsize=13)\n",
    "\n",
    "    plt.setp(ax[1].get_yticklabels(), fontweight=\"bold\")\n",
    "    plt.setp(ax[1].get_xticklabels(), fontweight=\"bold\")\n",
    "    ax[1].set_xlabel(col, fontweight=\"bold\", color='black')\n",
    "    ax[1].set_ylabel('count', fontweight=\"bold\", color='black')\n",
    "\n",
    "    f.suptitle(f'{title}', fontsize=18, fontweight='bold')\n",
    "    plt.tight_layout()\n",
    "    plt.show()"
   ]
  },
  {
   "cell_type": "code",
   "execution_count": null,
   "metadata": {},
   "outputs": [],
   "source": [
    "plot_count(df, \"quality\", \"Target Variable Distribution\")"
   ]
  },
  {
   "cell_type": "code",
   "execution_count": null,
   "metadata": {},
   "outputs": [],
   "source": [
    "df.head()"
   ]
  },
  {
   "cell_type": "code",
   "execution_count": null,
   "metadata": {},
   "outputs": [],
   "source": [
    "numerical_columns = [col for col in df.columns if df[col].dtype != \"object\"]\n",
    "categorical_columns = [col for col in df.columns if df[col].dtype == \"object\"]"
   ]
  },
  {
   "cell_type": "code",
   "execution_count": null,
   "metadata": {},
   "outputs": [],
   "source": [
    "plt.figure(figsize=(16, len(numerical_columns) * 2.5))\n",
    "\n",
    "for idx, column in enumerate(numerical_columns):\n",
    "    plt.subplot(len(numerical_columns), 2, idx + 1)\n",
    "    sns.histplot(x=column, hue=\"quality\", data=df, bins=30, kde=True)\n",
    "    plt.title(f\"{column} Distribution for quality\")\n",
    "    plt.ylim(0, df[column].value_counts().max() + 10)\n",
    "\n",
    "plt.tight_layout()\n",
    "plt.show()"
   ]
  },
  {
   "cell_type": "code",
   "execution_count": null,
   "metadata": {},
   "outputs": [],
   "source": [
    "def boxplots_custom(df, columns, rows, cols, title):\n",
    "    fig, ax = plt.subplots(rows, cols, sharey=True, figsize=(13, 5))\n",
    "    fig.suptitle(title, y=1, size=25)\n",
    "    ax = ax.flatten()\n",
    "    for i, column in enumerate(columns):\n",
    "        sns.boxplot(data=df[column], orient=\"h\", ax=ax[i])\n",
    "        ax[i].set_title(column + \", skewness is: \" + str(round(df[column].skew(axis=0, skipna=True), 2)))\n",
    "\n",
    "    plt.tight_layout()\n",
    "    plt.show()"
   ]
  },
  {
   "cell_type": "code",
   "execution_count": null,
   "metadata": {},
   "outputs": [],
   "source": [
    "boxplots_custom(df=df, columns=numerical_columns, rows=3, cols=4, title=\"Boxplots for each variable\")"
   ]
  },
  {
   "cell_type": "code",
   "execution_count": null,
   "metadata": {},
   "outputs": [],
   "source": [
    "def IQR_method(df, n, columns):\n",
    "    outlier_list = []\n",
    "    \n",
    "    for column in columns:\n",
    "        Q1 = np.percentile(df[column], 25)\n",
    "        Q3 = np.percentile(df[column],75)\n",
    "        IQR = Q3 - Q1\n",
    "        outlier_step = 1.5 * IQR\n",
    "        outlier_list_column = df[(df[column] < Q1 - outlier_step) | (df[column] > Q3 + outlier_step )].index\n",
    "        outlier_list.extend(outlier_list_column)\n",
    "        \n",
    "    outlier_list = Counter(outlier_list)        \n",
    "    multiple_outliers = list( k for k, v in outlier_list.items() if v > n )\n",
    "\n",
    "    df1 = df[df[column] < Q1 - outlier_step]\n",
    "    df2 = df[df[column] > Q3 + outlier_step]\n",
    "    print('Total number of outliers is:', df1.shape[0]+df2.shape[0])\n",
    "    return multiple_outliers"
   ]
  },
  {
   "cell_type": "code",
   "execution_count": null,
   "metadata": {},
   "outputs": [],
   "source": [
    "outliers_IQR = IQR_method(df, 1, numerical_columns)"
   ]
  },
  {
   "cell_type": "code",
   "execution_count": null,
   "metadata": {},
   "outputs": [],
   "source": [
    "df = df.drop(outliers_IQR, axis=0).reset_index(drop=True)"
   ]
  },
  {
   "cell_type": "code",
   "execution_count": null,
   "metadata": {},
   "outputs": [],
   "source": [
    "plt.figure(figsize=(11, 11))\n",
    "df_corr = df.copy()\n",
    "df_corr[\"quality\"] = df_corr[\"quality\"].map({\"Low\": 0, \"Medium\": 1, \"High\": 2})\n",
    "corr = df_corr.corr()\n",
    "mask = np.triu(np.ones_like(corr))\n",
    "sns.heatmap(corr, mask=mask, robust=True, center=0, square=True, cmap=\"viridis\", linewidths=.6)\n",
    "plt.title(\"Correlation Table\")\n",
    "plt.show()"
   ]
  },
  {
   "cell_type": "code",
   "execution_count": null,
   "metadata": {},
   "outputs": [],
   "source": [
    "plt.figure(figsize=(11, 11))\n",
    "clustermap = sns.clustermap(corr, vmin=-1, vmax=1, annot=True)"
   ]
  },
  {
   "cell_type": "code",
   "execution_count": null,
   "metadata": {},
   "outputs": [],
   "source": [
    "plt.figure(figsize=(14, 8))\n",
    "d = df_corr.corr()[\"quality\"][:-1].abs().sort_values().plot(kind=\"bar\", title=\"Highly Correlated Features with quality\")"
   ]
  },
  {
   "cell_type": "code",
   "execution_count": null,
   "metadata": {},
   "outputs": [],
   "source": [
    "numerical_columns"
   ]
  },
  {
   "cell_type": "code",
   "execution_count": null,
   "metadata": {},
   "outputs": [],
   "source": [
    "vif_cols = [\"volatile acidity\", \"citric acid\", \"residual sugar\", \"chlorides\", \"free sulfur dioxide\",\n",
    "            \"total sulfur dioxide\"]\n",
    "vif_data = pd.DataFrame()\n",
    "vif_data[\"Feature\"] = vif_cols\n",
    "vif_data[\"VIF\"] = [variance_inflation_factor(df[vif_cols].values, i) for i in range(len(vif_cols))]\n",
    "print(vif_data)"
   ]
  },
  {
   "cell_type": "code",
   "execution_count": null,
   "metadata": {},
   "outputs": [],
   "source": [
    "df[vif_cols + [\"quality\"]].head()"
   ]
  },
  {
   "cell_type": "code",
   "execution_count": null,
   "metadata": {},
   "outputs": [],
   "source": [
    "X = df[vif_cols]\n",
    "y = df[\"quality\"]"
   ]
  },
  {
   "cell_type": "code",
   "execution_count": null,
   "metadata": {},
   "outputs": [],
   "source": [
    "X_train, X_test, y_train, y_test = train_test_split(X, y, test_size=0.2, random_state=42)"
   ]
  },
  {
   "cell_type": "code",
   "execution_count": null,
   "metadata": {},
   "outputs": [],
   "source": [
    "Counter(y_train)"
   ]
  },
  {
   "cell_type": "code",
   "execution_count": null,
   "metadata": {},
   "outputs": [],
   "source": [
    "smote = SMOTE(random_state=42)\n",
    "X_train, y_train = smote.fit_resample(X_train, y_train)"
   ]
  },
  {
   "cell_type": "code",
   "execution_count": null,
   "metadata": {},
   "outputs": [],
   "source": [
    "Counter(y_train)"
   ]
  },
  {
   "cell_type": "code",
   "execution_count": null,
   "metadata": {},
   "outputs": [],
   "source": [
    "ss = StandardScaler()\n",
    "ss.fit(X)\n",
    "X_train = ss.transform(X_train)\n",
    "X_test = ss.transform(X_test)"
   ]
  },
  {
   "cell_type": "code",
   "execution_count": null,
   "metadata": {},
   "outputs": [],
   "source": [
    "kf = StratifiedKFold(n_splits=5, shuffle=False)"
   ]
  },
  {
   "cell_type": "code",
   "execution_count": null,
   "metadata": {},
   "outputs": [],
   "source": [
    "rf = RandomForestClassifier()\n",
    "rf.fit(X_train, y_train)"
   ]
  },
  {
   "cell_type": "code",
   "execution_count": null,
   "metadata": {},
   "outputs": [],
   "source": [
    "score = cross_val_score(rf, X_train, y_train, cv=kf, scoring=\"accuracy\")\n",
    "rf_cv_score = score.mean()\n",
    "rf_cv_stdev = stdev(score)\n",
    "\n",
    "print(\"Cross Validation Accuracy Scores:\", score)\n",
    "print(\"Average Accuracy Score:\", rf_cv_score)\n",
    "print(\"Standard Deviation Score:\", rf_cv_stdev)"
   ]
  },
  {
   "cell_type": "code",
   "execution_count": null,
   "metadata": {},
   "outputs": [],
   "source": [
    "y_pred = rf.predict(X_test)"
   ]
  },
  {
   "cell_type": "code",
   "execution_count": null,
   "metadata": {},
   "outputs": [],
   "source": [
    "accuracy_score(y_test, y_pred)"
   ]
  },
  {
   "cell_type": "code",
   "execution_count": null,
   "metadata": {},
   "outputs": [],
   "source": [
    "params = {\n",
    "    \"n_estimators\": [130, 150, 170, 190, 200],\n",
    "    \"max_depth\": [8, 10, 12, 14],\n",
    "    \"min_samples_split\": [3, 4, 5, 6],\n",
    "    \"min_samples_leaf\": [1, 2, 3]\n",
    "}\n",
    "\n",
    "grid_rf = GridSearchCV(rf, param_grid=params, cv=kf, scoring=\"accuracy\").fit(X_train, y_train)"
   ]
  },
  {
   "cell_type": "code",
   "execution_count": null,
   "metadata": {},
   "outputs": [],
   "source": [
    "print(\"Best parameters:\", grid_rf.best_params_)\n",
    "print(\"Best score:\", grid_rf.best_score_)"
   ]
  },
  {
   "cell_type": "code",
   "execution_count": null,
   "metadata": {},
   "outputs": [],
   "source": [
    "rf_tuned = RandomForestClassifier(max_depth=14, min_samples_leaf=1, min_samples_split=3, n_estimators=200)\n",
    "rf_tuned.fit(X_train, y_train)"
   ]
  },
  {
   "cell_type": "code",
   "execution_count": null,
   "metadata": {},
   "outputs": [],
   "source": [
    "score_tuned = cross_val_score(rf_tuned, X_train, y_train, cv=kf, scoring=\"accuracy\")\n",
    "rf_tuned_cv_score = score_tuned.mean()\n",
    "rf_tuned_cv_stdev = stdev(score_tuned)\n",
    "\n",
    "print(\"Cross Validation Accuracy Scores:\", score_tuned)\n",
    "print(\"Average Accuracy Score:\", rf_tuned_cv_score)\n",
    "print(\"Standard Deviation Score:\", rf_tuned_cv_stdev)"
   ]
  },
  {
   "cell_type": "code",
   "execution_count": null,
   "metadata": {},
   "outputs": [],
   "source": [
    "y_pred_tuned = rf_tuned.predict(X_test)"
   ]
  },
  {
   "cell_type": "code",
   "execution_count": null,
   "metadata": {},
   "outputs": [],
   "source": [
    "accuracy_score(y_test, y_pred_tuned)"
   ]
  },
  {
   "cell_type": "code",
   "execution_count": null,
   "metadata": {},
   "outputs": [],
   "source": []
  }
 ],
 "metadata": {
  "kernelspec": {
   "display_name": "Python 3 (ipykernel)",
   "language": "python",
   "name": "python3"
  },
  "language_info": {
   "codemirror_mode": {
    "name": "ipython",
    "version": 3
   },
   "file_extension": ".py",
   "mimetype": "text/x-python",
   "name": "python",
   "nbconvert_exporter": "python",
   "pygments_lexer": "ipython3",
   "version": "3.10.12"
  }
 },
 "nbformat": 4,
 "nbformat_minor": 4
}
